{
  "nbformat": 4,
  "nbformat_minor": 0,
  "metadata": {
    "colab": {
      "name": "TEST Particle Physics Project.ipynb",
      "provenance": [],
      "collapsed_sections": [],
      "include_colab_link": true
    },
    "kernelspec": {
      "name": "python3",
      "display_name": "Python 3"
    }
  },
  "cells": [
    {
      "cell_type": "markdown",
      "metadata": {
        "id": "view-in-github",
        "colab_type": "text"
      },
      "source": [
        "<a href=\"https://colab.research.google.com/github/dkallenberg/Quarknet_Data/blob/master/Particle_Physics_Project.ipynb\" target=\"_parent\"><img src=\"https://colab.research.google.com/assets/colab-badge.svg\" alt=\"Open In Colab\"/></a>"
      ]
    },
    {
      "cell_type": "markdown",
      "metadata": {
        "id": "BrmOSHYzYEGj",
        "colab_type": "text"
      },
      "source": [
        "**Particle Physics Project**\n",
        "Analyzing CMS Particle Physics Data\n",
        "# New Section\n",
        "Introduction\n",
        "The CMS Collaboration brings together members of the particle physics community from across the globe in a quest to advance humanity’s knowledge of the very basic laws of our Universe. CMS has over 5000 particle physicists, engineers, computer scientists, technicians and students from 200 institutes and universities from more than 40 countries.\n",
        "The collaboration operates and collects data from the Compact Muon Solenoid (CMS), one of the general-purpose particle detectors at CERN’s Large Hadron Collider (LHC). Collaborators from all over the world helped design and fabricate components of the detector, which were brought to CERN in Geneva, Switzerland for final assembly. Data collected by CMS are shared with several computing centers via the Worldwide LHC Computing Grid. From there, they are distributed to CMS institutions in over forty countries for physics analysis.\n",
        "In keeping with CERN’s commitment to open access for high-energy physics, the scientific results from CMS are shared openly with the world. Additionally, CMS shares its particle physics data with the world. We will be analyzing some of this public data in this project.\n",
        "In this particle physics project students will be doing the following:\n",
        "\n",
        " Determining the charge of muons deflected by a magnetic field\n",
        "\n",
        "Writing a Matlab program to:a. histogram the \"raw\" data (diagnostic histograms) b. calculate the invariant mass of dimuon pairs c. Lorentz transform the data from the lab frame to the dimuon rest frame and repeat (a and b) in this frame\n",
        "\n",
        "Discussing the results of their analyses\n"
      ]
    },
    {
      "cell_type": "code",
      "metadata": {
        "id": "CigWd45VwpPp",
        "colab_type": "code",
        "colab": {}
      },
      "source": [
        "# imports some software packages we'll use\n",
        "import pandas as pd\n",
        "import numpy as np\n",
        "%matplotlib inline\n",
        "import matplotlib as mpl\n",
        "import matplotlib.pyplot as plt\n",
        "import math\n",
        "inline_rc = dict(mpl.rcParams)"
      ],
      "execution_count": 11,
      "outputs": []
    },
    {
      "cell_type": "code",
      "metadata": {
        "id": "-u6HiVILyyc5",
        "colab_type": "code",
        "colab": {}
      },
      "source": [
        "# a hashtag tells the program \"don't read the rest of the line\"\n",
        "\n",
        "lowMass = pd.read_csv('https://raw.githubusercontent.com/dkallenberg/Quarknet_Data/master/CMS_Low-Mass_DiMuon.csv')\n",
        "\n",
        "data = lowMass\n"
      ],
      "execution_count": 2,
      "outputs": []
    },
    {
      "cell_type": "code",
      "metadata": {
        "id": "vdQDKWrZy8Hx",
        "colab_type": "code",
        "colab": {
          "base_uri": "https://localhost:8080/",
          "height": 204
        },
        "outputId": "b82a8d52-fbde-43f9-dd3d-f339b001c04d"
      },
      "source": [
        "# The .head(n) command displays the first n rows of a file.\n",
        "data.head(5)"
      ],
      "execution_count": 3,
      "outputs": [
        {
          "output_type": "execute_result",
          "data": {
            "text/html": [
              "<div>\n",
              "<style scoped>\n",
              "    .dataframe tbody tr th:only-of-type {\n",
              "        vertical-align: middle;\n",
              "    }\n",
              "\n",
              "    .dataframe tbody tr th {\n",
              "        vertical-align: top;\n",
              "    }\n",
              "\n",
              "    .dataframe thead th {\n",
              "        text-align: right;\n",
              "    }\n",
              "</style>\n",
              "<table border=\"1\" class=\"dataframe\">\n",
              "  <thead>\n",
              "    <tr style=\"text-align: right;\">\n",
              "      <th></th>\n",
              "      <th>MuQuality</th>\n",
              "      <th>Event_Number</th>\n",
              "      <th>E1</th>\n",
              "      <th>px1</th>\n",
              "      <th>py1</th>\n",
              "      <th>pz1</th>\n",
              "      <th>Q1</th>\n",
              "      <th>E2</th>\n",
              "      <th>px2</th>\n",
              "      <th>py2</th>\n",
              "      <th>pz2</th>\n",
              "      <th>Q2</th>\n",
              "    </tr>\n",
              "  </thead>\n",
              "  <tbody>\n",
              "    <tr>\n",
              "      <th>0</th>\n",
              "      <td>GT</td>\n",
              "      <td>1007912007</td>\n",
              "      <td>13.70610</td>\n",
              "      <td>4.88649</td>\n",
              "      <td>-2.50860</td>\n",
              "      <td>12.55690</td>\n",
              "      <td>1</td>\n",
              "      <td>3.67389</td>\n",
              "      <td>-0.683250</td>\n",
              "      <td>0.529614</td>\n",
              "      <td>3.56917</td>\n",
              "      <td>1</td>\n",
              "    </tr>\n",
              "    <tr>\n",
              "      <th>1</th>\n",
              "      <td>GT</td>\n",
              "      <td>1007957044</td>\n",
              "      <td>9.09052</td>\n",
              "      <td>-2.16135</td>\n",
              "      <td>-2.96392</td>\n",
              "      <td>-8.31686</td>\n",
              "      <td>-1</td>\n",
              "      <td>3.80945</td>\n",
              "      <td>0.787428</td>\n",
              "      <td>-0.775826</td>\n",
              "      <td>-3.64400</td>\n",
              "      <td>1</td>\n",
              "    </tr>\n",
              "    <tr>\n",
              "      <th>2</th>\n",
              "      <td>GG</td>\n",
              "      <td>1008000431</td>\n",
              "      <td>6.81754</td>\n",
              "      <td>5.76035</td>\n",
              "      <td>3.23987</td>\n",
              "      <td>-1.67015</td>\n",
              "      <td>1</td>\n",
              "      <td>19.14860</td>\n",
              "      <td>12.887500</td>\n",
              "      <td>12.388700</td>\n",
              "      <td>-6.86217</td>\n",
              "      <td>-1</td>\n",
              "    </tr>\n",
              "    <tr>\n",
              "      <th>3</th>\n",
              "      <td>GT</td>\n",
              "      <td>1008032300</td>\n",
              "      <td>31.88530</td>\n",
              "      <td>-5.85709</td>\n",
              "      <td>2.78331</td>\n",
              "      <td>-31.21880</td>\n",
              "      <td>1</td>\n",
              "      <td>4.26886</td>\n",
              "      <td>-1.501790</td>\n",
              "      <td>-0.486974</td>\n",
              "      <td>-3.96478</td>\n",
              "      <td>1</td>\n",
              "    </tr>\n",
              "    <tr>\n",
              "      <th>4</th>\n",
              "      <td>GT</td>\n",
              "      <td>1008075983</td>\n",
              "      <td>13.55270</td>\n",
              "      <td>1.18694</td>\n",
              "      <td>-2.35966</td>\n",
              "      <td>-13.29240</td>\n",
              "      <td>1</td>\n",
              "      <td>4.36207</td>\n",
              "      <td>1.190820</td>\n",
              "      <td>0.142888</td>\n",
              "      <td>-4.19262</td>\n",
              "      <td>1</td>\n",
              "    </tr>\n",
              "  </tbody>\n",
              "</table>\n",
              "</div>"
            ],
            "text/plain": [
              "  MuQuality  Event_Number        E1      px1  ...        px2        py2      pz2  Q2\n",
              "0        GT    1007912007  13.70610  4.88649  ...  -0.683250   0.529614  3.56917   1\n",
              "1        GT    1007957044   9.09052 -2.16135  ...   0.787428  -0.775826 -3.64400   1\n",
              "2        GG    1008000431   6.81754  5.76035  ...  12.887500  12.388700 -6.86217  -1\n",
              "3        GT    1008032300  31.88530 -5.85709  ...  -1.501790  -0.486974 -3.96478   1\n",
              "4        GT    1008075983  13.55270  1.18694  ...   1.190820   0.142888 -4.19262   1\n",
              "\n",
              "[5 rows x 12 columns]"
            ]
          },
          "metadata": {
            "tags": []
          },
          "execution_count": 3
        }
      ]
    },
    {
      "cell_type": "code",
      "metadata": {
        "id": "BCZrNnruj9_M",
        "colab_type": "code",
        "colab": {
          "base_uri": "https://localhost:8080/",
          "height": 34
        },
        "outputId": "9d8bbf57-8a87-44ab-bb53-24171be61736"
      },
      "source": [
        "# The .shape command displays the (number of rows , number of columns) in a file.\n",
        "data.shape"
      ],
      "execution_count": 4,
      "outputs": [
        {
          "output_type": "execute_result",
          "data": {
            "text/plain": [
              "(2000, 12)"
            ]
          },
          "metadata": {
            "tags": []
          },
          "execution_count": 4
        }
      ]
    },
    {
      "cell_type": "code",
      "metadata": {
        "id": "fwSwLgZpmWAP",
        "colab_type": "code",
        "colab": {
          "base_uri": "https://localhost:8080/",
          "height": 238
        },
        "outputId": "ae4fd157-41c6-44e3-9e9d-b60d0129af90"
      },
      "source": [
        "# The .types command displays\n",
        "data.dtypes"
      ],
      "execution_count": 5,
      "outputs": [
        {
          "output_type": "execute_result",
          "data": {
            "text/plain": [
              "MuQuality        object\n",
              "Event_Number      int64\n",
              "E1              float64\n",
              "px1             float64\n",
              "py1             float64\n",
              "pz1             float64\n",
              "Q1                int64\n",
              "E2              float64\n",
              "px2             float64\n",
              "py2             float64\n",
              "pz2             float64\n",
              "Q2                int64\n",
              "dtype: object"
            ]
          },
          "metadata": {
            "tags": []
          },
          "execution_count": 5
        }
      ]
    },
    {
      "cell_type": "code",
      "metadata": {
        "id": "ChFtDlvtkF-i",
        "colab_type": "code",
        "colab": {}
      },
      "source": [
        "# You can specify a column by dataset.columnName (e.g., two_u.E1)\n",
        "# This makes a new column called \"Adam\" and fills it with a meaningless \n",
        "# quantity (E1 + px1) for each event\n",
        "data['Etotal'] = data.E1 + data.E2\n",
        "# to raise a column to a power you need to uss **. For example to suqare the energy you would use \n",
        "data['Etotal^2'] = data.Etotal**2 "
      ],
      "execution_count": 6,
      "outputs": []
    },
    {
      "cell_type": "code",
      "metadata": {
        "id": "rNQl2fXqSBVh",
        "colab_type": "code",
        "colab": {
          "base_uri": "https://localhost:8080/",
          "height": 204
        },
        "outputId": "66cf53b8-c2f2-4540-944a-772c52bbdb28"
      },
      "source": [
        "data.head(5)"
      ],
      "execution_count": 7,
      "outputs": [
        {
          "output_type": "execute_result",
          "data": {
            "text/html": [
              "<div>\n",
              "<style scoped>\n",
              "    .dataframe tbody tr th:only-of-type {\n",
              "        vertical-align: middle;\n",
              "    }\n",
              "\n",
              "    .dataframe tbody tr th {\n",
              "        vertical-align: top;\n",
              "    }\n",
              "\n",
              "    .dataframe thead th {\n",
              "        text-align: right;\n",
              "    }\n",
              "</style>\n",
              "<table border=\"1\" class=\"dataframe\">\n",
              "  <thead>\n",
              "    <tr style=\"text-align: right;\">\n",
              "      <th></th>\n",
              "      <th>MuQuality</th>\n",
              "      <th>Event_Number</th>\n",
              "      <th>E1</th>\n",
              "      <th>px1</th>\n",
              "      <th>py1</th>\n",
              "      <th>pz1</th>\n",
              "      <th>Q1</th>\n",
              "      <th>E2</th>\n",
              "      <th>px2</th>\n",
              "      <th>py2</th>\n",
              "      <th>pz2</th>\n",
              "      <th>Q2</th>\n",
              "      <th>Etotal</th>\n",
              "      <th>Etotal^2</th>\n",
              "    </tr>\n",
              "  </thead>\n",
              "  <tbody>\n",
              "    <tr>\n",
              "      <th>0</th>\n",
              "      <td>GT</td>\n",
              "      <td>1007912007</td>\n",
              "      <td>13.70610</td>\n",
              "      <td>4.88649</td>\n",
              "      <td>-2.50860</td>\n",
              "      <td>12.55690</td>\n",
              "      <td>1</td>\n",
              "      <td>3.67389</td>\n",
              "      <td>-0.683250</td>\n",
              "      <td>0.529614</td>\n",
              "      <td>3.56917</td>\n",
              "      <td>1</td>\n",
              "      <td>17.37999</td>\n",
              "      <td>302.064052</td>\n",
              "    </tr>\n",
              "    <tr>\n",
              "      <th>1</th>\n",
              "      <td>GT</td>\n",
              "      <td>1007957044</td>\n",
              "      <td>9.09052</td>\n",
              "      <td>-2.16135</td>\n",
              "      <td>-2.96392</td>\n",
              "      <td>-8.31686</td>\n",
              "      <td>-1</td>\n",
              "      <td>3.80945</td>\n",
              "      <td>0.787428</td>\n",
              "      <td>-0.775826</td>\n",
              "      <td>-3.64400</td>\n",
              "      <td>1</td>\n",
              "      <td>12.89997</td>\n",
              "      <td>166.409226</td>\n",
              "    </tr>\n",
              "    <tr>\n",
              "      <th>2</th>\n",
              "      <td>GG</td>\n",
              "      <td>1008000431</td>\n",
              "      <td>6.81754</td>\n",
              "      <td>5.76035</td>\n",
              "      <td>3.23987</td>\n",
              "      <td>-1.67015</td>\n",
              "      <td>1</td>\n",
              "      <td>19.14860</td>\n",
              "      <td>12.887500</td>\n",
              "      <td>12.388700</td>\n",
              "      <td>-6.86217</td>\n",
              "      <td>-1</td>\n",
              "      <td>25.96614</td>\n",
              "      <td>674.240426</td>\n",
              "    </tr>\n",
              "    <tr>\n",
              "      <th>3</th>\n",
              "      <td>GT</td>\n",
              "      <td>1008032300</td>\n",
              "      <td>31.88530</td>\n",
              "      <td>-5.85709</td>\n",
              "      <td>2.78331</td>\n",
              "      <td>-31.21880</td>\n",
              "      <td>1</td>\n",
              "      <td>4.26886</td>\n",
              "      <td>-1.501790</td>\n",
              "      <td>-0.486974</td>\n",
              "      <td>-3.96478</td>\n",
              "      <td>1</td>\n",
              "      <td>36.15416</td>\n",
              "      <td>1307.123285</td>\n",
              "    </tr>\n",
              "    <tr>\n",
              "      <th>4</th>\n",
              "      <td>GT</td>\n",
              "      <td>1008075983</td>\n",
              "      <td>13.55270</td>\n",
              "      <td>1.18694</td>\n",
              "      <td>-2.35966</td>\n",
              "      <td>-13.29240</td>\n",
              "      <td>1</td>\n",
              "      <td>4.36207</td>\n",
              "      <td>1.190820</td>\n",
              "      <td>0.142888</td>\n",
              "      <td>-4.19262</td>\n",
              "      <td>1</td>\n",
              "      <td>17.91477</td>\n",
              "      <td>320.938984</td>\n",
              "    </tr>\n",
              "  </tbody>\n",
              "</table>\n",
              "</div>"
            ],
            "text/plain": [
              "  MuQuality  Event_Number        E1  ...  Q2    Etotal     Etotal^2\n",
              "0        GT    1007912007  13.70610  ...   1  17.37999   302.064052\n",
              "1        GT    1007957044   9.09052  ...   1  12.89997   166.409226\n",
              "2        GG    1008000431   6.81754  ...  -1  25.96614   674.240426\n",
              "3        GT    1008032300  31.88530  ...   1  36.15416  1307.123285\n",
              "4        GT    1008075983  13.55270  ...   1  17.91477   320.938984\n",
              "\n",
              "[5 rows x 14 columns]"
            ]
          },
          "metadata": {
            "tags": []
          },
          "execution_count": 7
        }
      ]
    },
    {
      "cell_type": "code",
      "metadata": {
        "id": "ABhDZbQpn7V-",
        "colab_type": "code",
        "colab": {
          "base_uri": "https://localhost:8080/",
          "height": 170
        },
        "outputId": "17242744-bdec-4b32-89ad-b2688e7b367c"
      },
      "source": [
        "# calculates descriptive statistics\n",
        "data['E1'].describe()"
      ],
      "execution_count": 8,
      "outputs": [
        {
          "output_type": "execute_result",
          "data": {
            "text/plain": [
              "count    2000.000000\n",
              "mean       10.687449\n",
              "std         5.613021\n",
              "min         2.731710\n",
              "25%         7.304658\n",
              "50%         9.254485\n",
              "75%        12.286925\n",
              "max        67.188800\n",
              "Name: E1, dtype: float64"
            ]
          },
          "metadata": {
            "tags": []
          },
          "execution_count": 8
        }
      ]
    },
    {
      "cell_type": "code",
      "metadata": {
        "id": "rGj4QTvykMpz",
        "colab_type": "code",
        "colab": {
          "base_uri": "https://localhost:8080/",
          "height": 295
        },
        "outputId": "cceb1b3e-0e72-46ef-c3d0-e897a210a7c1"
      },
      "source": [
        "# This makes a histogram of that totally useless calculation above\n",
        "plt.hist(data.E1, bins=21, log=False)\n",
        "plt.title(\"Energy of 1st Muons\")\n",
        "plt.xlabel(\"Energy\")\n",
        "plt.ylabel(\"Events GeV\");"
      ],
      "execution_count": 9,
      "outputs": [
        {
          "output_type": "display_data",
          "data": {
            "image/png": "[encoded data removed]",
            "text/plain": [
              "<Figure size 432x288 with 1 Axes>"
            ]
          },
          "metadata": {
            "tags": [],
            "needs_background": "light"
          }
        }
      ]
    },
    {
      "cell_type": "code",
      "metadata": {
        "id": "IyjMTbSVhY0n",
        "colab_type": "code",
        "colab": {
          "base_uri": "https://localhost:8080/",
          "height": 700
        },
        "outputId": "35b50156-6b2e-4f29-f0af-ea215b254ad4"
      },
      "source": [
        "# Example number of variables\n",
        "nvars = 12\n",
        "\n",
        "# subplots(number of vertically stacked axis positions,\n",
        "#          number of horizontally stacked axis positions,\n",
        "#          figsize=(width, height))\n",
        "fig, ax = plt.subplots(4, 3, figsize=(18, 12))\n",
        "\n",
        "# Need to pass axis handle to df.plot()\n",
        "data.iloc[:,-nvars:].plot.hist(subplots=True, range=[0,300], ax=ax);"
      ],
      "execution_count": 10,
      "outputs": [
        {
          "output_type": "display_data",
          "data": {
            "image/png": "[encoded data removed]",
            "text/plain": [
              "<Figure size 1296x864 with 12 Axes>"
            ]
          },
          "metadata": {
            "tags": [],
            "needs_background": "light"
          }
        }
      ]
    }
  ]
}