{
  "nbformat": 4,
  "nbformat_minor": 0,
  "metadata": {
    "colab": {
      "name": "Data Analysis.ipynb",
      "provenance": [],
      "collapsed_sections": [],
      "include_colab_link": true
    },
    "kernelspec": {
      "name": "python3",
      "display_name": "Python 3"
    }
  },
  "cells": [
    {
      "cell_type": "markdown",
      "metadata": {
        "id": "view-in-github",
        "colab_type": "text"
      },
      "source": [
        "<a href=\"https://colab.research.google.com/github/dkallenberg/Quarknet_Data/blob/master/Data_Analysis.ipynb\" target=\"_parent\"><img src=\"https://colab.research.google.com/assets/colab-badge.svg\" alt=\"Open In Colab\"/></a>"
      ]
    },
    {
      "cell_type": "code",
      "metadata": {
        "id": "CigWd45VwpPp",
        "colab_type": "code",
        "colab": {}
      },
      "source": [
        "# imports some software packages we'll use\n",
        "import pandas as pd\n",
        "import numpy as np\n",
        "%matplotlib inline\n",
        "import matplotlib as mpl\n",
        "import matplotlib.pyplot as plt\n",
        "import math\n",
        "inline_rc = dict(mpl.rcParams)"
      ],
      "execution_count": null,
      "outputs": []
    },
    {
      "cell_type": "code",
      "metadata": {
        "id": "-u6HiVILyyc5",
        "colab_type": "code",
        "colab": {}
      },
      "source": [
        "# a hashtag tells the program \"don't read the rest of the line\"\n",
        "\n",
        "lowMass = pd.read_csv('https://raw.githubusercontent.com/dkallenberg/Quarknet_Data/master/CMS_Low-Mass_DiMuon.csv')\n",
        "\n",
        "data = lowMass\n"
      ],
      "execution_count": null,
      "outputs": []
    },
    {
      "cell_type": "code",
      "metadata": {
        "id": "vdQDKWrZy8Hx",
        "colab_type": "code",
        "colab": {}
      },
      "source": [
        "# The .head(n) command displays the first n rows of a file.\n",
        "data.head(5)"
      ],
      "execution_count": null,
      "outputs": []
    },
    {
      "cell_type": "code",
      "metadata": {
        "id": "BCZrNnruj9_M",
        "colab_type": "code",
        "colab": {}
      },
      "source": [
        "# The .shape command displays the (number of rows , number of columns) in a file.\n",
        "data.shape"
      ],
      "execution_count": null,
      "outputs": []
    },
    {
      "cell_type": "code",
      "metadata": {
        "id": "fwSwLgZpmWAP",
        "colab_type": "code",
        "colab": {}
      },
      "source": [
        "# The .types command displays\n",
        "data.dtypes"
      ],
      "execution_count": null,
      "outputs": []
    },
    {
      "cell_type": "code",
      "metadata": {
        "id": "ChFtDlvtkF-i",
        "colab_type": "code",
        "colab": {}
      },
      "source": [
        "# You can specify a column by dataset.columnName (e.g., two_u.E1)\n",
        "# This makes a new column called \"Adam\" and fills it with a meaningless \n",
        "# quantity (E1 + px1) for each event\n",
        "data['Etotal'] = data.E1 + data.E2\n",
        "# to raise a column to a power you need to uss **. For example to suqare the energy you would use \n",
        "data['Etotal^2'] = data.Etotal**2 "
      ],
      "execution_count": null,
      "outputs": []
    },
    {
      "cell_type": "code",
      "metadata": {
        "id": "rNQl2fXqSBVh",
        "colab_type": "code",
        "colab": {}
      },
      "source": [
        "data.head(5)"
      ],
      "execution_count": null,
      "outputs": []
    },
    {
      "cell_type": "code",
      "metadata": {
        "id": "ABhDZbQpn7V-",
        "colab_type": "code",
        "colab": {}
      },
      "source": [
        "# calculates descriptive statistics\n",
        "data['E1'].describe()"
      ],
      "execution_count": null,
      "outputs": []
    },
    {
      "cell_type": "code",
      "metadata": {
        "id": "rGj4QTvykMpz",
        "colab_type": "code",
        "colab": {}
      },
      "source": [
        "# This makes a histogram of that totally useless calculation above\n",
        "plt.hist(data.E1, bins=21, log=False)\n",
        "plt.title(\"Energy of 1st Muons\")\n",
        "plt.xlabel(\"Energy\")\n",
        "plt.ylabel(\"Events GeV\");"
      ],
      "execution_count": null,
      "outputs": []
    },
    {
      "cell_type": "code",
      "metadata": {
        "id": "IyjMTbSVhY0n",
        "colab_type": "code",
        "colab": {}
      },
      "source": [
        "# To plot all of the variables\n",
        "# subplots(number of vertically stacked axis positions,\n",
        "#          number of horizontally stacked axis positions,\n",
        "#          figsize=(width, height))\n",
        "\n",
        "plt.subplot(1, 2, 1)  # 1 line, 2 rows, index nr 1 (first position in the subplot)\n",
        "plt.hist(data.E1)\n",
        "plt.subplot(1, 2, 2)  # 1 line, 2 rows, index nr 2 (second position in the subplot)\n",
        "plt.hist(data.px1)\n",
        "plt.subplot(1, 2, 2)  # 1 line, 2 rows, index nr 2 (second position in the subplot)\n",
        "plt.hist(data.py1)\n",
        "\n",
        "plt.show()"
      ],
      "execution_count": null,
      "outputs": []
    },
    {
      "cell_type": "code",
      "metadata": {
        "id": "hZs9D_THVZgr",
        "colab_type": "code",
        "colab": {}
      },
      "source": [
        "plt.figure(1, 3, figsize = [5, 15]) # larger figure size for subplots\n",
        "\n",
        "# example of somewhat too-large bin size\n",
        "plt.subplot(1, 2, 1) # 1 row, 2 cols, subplot 1\n",
        "bin_edges = np.arange(0, data['E1'].max()+4, 4)\n",
        "plt.hist(data = data, x = 'E1', bins = bin_edges)\n",
        "\n",
        "# example of somewhat too-small bin size\n",
        "plt.subplot(1, 2, 2) # 1 row, 2 cols, subplot 2\n",
        "bin_edges = np.arange(0, data['px1'].max()+1, 1)\n",
        "plt.hist(data = data, x = 'px1', bins = bin_edges)\n",
        "\n",
        "# example of somewhat too-small bin size\n",
        "plt.subplot(1, 2, 3) # 1 row, 2 cols, subplot 2\n",
        "bin_edges = np.arange(0, data['py1'].max()+1, 1)\n",
        "plt.hist(data = data, x = 'py1', bins = bin_edges);"
      ],
      "execution_count": null,
      "outputs": []
    }
  ]
}