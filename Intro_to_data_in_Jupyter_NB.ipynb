{
  "nbformat": 4,
  "nbformat_minor": 0,
  "metadata": {
    "colab": {
      "name": "Intro to data in Jupyter NB.ipynb",
      "provenance": [],
      "collapsed_sections": [],
      "include_colab_link": true
    },
    "kernelspec": {
      "name": "python3",
      "display_name": "Python 3"
    }
  },
  "cells": [
    {
      "cell_type": "markdown",
      "metadata": {
        "id": "view-in-github",
        "colab_type": "text"
      },
      "source": [
        "<a href=\"https://colab.research.google.com/github/dkallenberg/Quarknet_Data/blob/master/Intro_to_data_in_Jupyter_NB.ipynb\" target=\"_parent\"><img src=\"https://colab.research.google.com/assets/colab-badge.svg\" alt=\"Open In Colab\"/></a>"
      ]
    },
    {
      "cell_type": "markdown",
      "metadata": {
        "id": "c2oKnUJBCm6k"
      },
      "source": [
        "# Introduction to Using Jupyter Notebook and Python (for Data Analysis)\n",
        "\n",
        "What you are looking at is a Jupyter Notebook. Jupyter Notebooks let us present both informaitonal text and working code. This section of the notebook is just giving you information like many other websites. When most websites show you code it is just shown as specially formated text like the code in the line below.\n",
        "\n",
        "```\n",
        "# This is formatted as code\n",
        "# <-- Any thing typed after the tic-tac-toe/number/pound/hashtag on a line is ignored when the code is run.\n",
        "message1 = \">> Hello ND Quarknet 2021! <<\"\n",
        "message2 = \"By printing this message I here by promise to give Mr. Kallenberg 5 out of 5 stars on the feed back form at the end of the week.\"\n",
        "print(message1)\n",
        "#print(message2)\n",
        "```\n",
        "\n",
        "In a Jupyter Notebook we can run that code and see what it outputs. In this case Colab is hosted by Google which means the code runs on their server so you don't have to load anythng special on your computer. \n",
        "\n",
        "When you see the same line of code in a big box like the section below (a snippet), you can run it and see the output by clicking on the brackes in the top right part of the snippet (when you mouse over them you get a play button). \n",
        "\n",
        "Go a head and run the first snippet."
      ]
    },
    {
      "cell_type": "code",
      "metadata": {
        "id": "pqpR7q0BH_KL"
      },
      "source": [
        "# This is formatted as code\n",
        "# <-- Any thing typed after the number/pound/hashtag on a line is ignored when the code is run.\n",
        "message1 = \">> Hello ND Quarknet 2021! <<\"\n",
        "message2 = \"I  will give Mr. Kallenber 5 out of 5 stars on the feed back at the end of the week\"\n",
        "print(message1)\n",
        "#print(message2)"
      ],
      "execution_count": null,
      "outputs": []
    },
    {
      "cell_type": "markdown",
      "metadata": {
        "id": "o7WSkLOi9rc4"
      },
      "source": [
        "Now between here and the code you should now see the output, notice that only one of the messages was printed in the output. You should also notice Now in the bracket there is a number [1] indicating that the last time it was run it was the first thing run in the sequance. The next snippet that is run will be [2] even if that snippet is run again.\n",
        "\n",
        "The reason this is important is that here we set values for message1 and message2, that can be used in later snippets. If we wanted to change them for the whole program we would come back to this snippet, change them and run it again.\n",
        "\n",
        "\n",
        "---\n",
        "\n",
        "\n",
        "In most coding languages first, we have to import \"libraries\", which are a set of \"words\" with more code behind them to make them work. In many cases, the name of the library is shortened when it is imported to make it easier type.\n",
        "\n",
        "Click on the [ ] to run the snippet below."
      ]
    },
    {
      "cell_type": "code",
      "metadata": {
        "id": "-M0jOUiG8PHt"
      },
      "source": [
        "import numpy as np\n",
        "import matplotlib.pyplot as plt"
      ],
      "execution_count": null,
      "outputs": []
    },
    {
      "cell_type": "markdown",
      "metadata": {
        "id": "XT49ooM6-eRe"
      },
      "source": [
        "The number in the brackets abover tells you the snippet of code has run. It also tells you where in the sequence it ran.\n",
        "\n",
        "The numpy library, here called using \"np\", has many functions and those functions have sub-functions. Here we are going to simulate a coin flip by using the random function in the numpy library. Coins only have two sides so we will say that heads is a 0 and tails is a 1. Since we only need integers we will use the randint subfunction of random.\n",
        "\n",
        "After a function or sub-function, more instructions can be passed in the parentheses. In the case of the randint subfunction three things are listed (min int, max int, number of int output). Intergers is shortend to \"int\".\n",
        "The second line prints list of random values in the output.\n",
        "\n",
        "Click on the [ ] to run the snippet below."
      ]
    },
    {
      "cell_type": "code",
      "metadata": {
        "id": "ZDfTTAkb-Ybg"
      },
      "source": [
        "coins10 = np.random.randint(0,1,10)\n",
        "\n",
        "print(coins)"
      ],
      "execution_count": null,
      "outputs": []
    },
    {
      "cell_type": "markdown",
      "metadata": {
        "id": "gupW8r5YAeqd"
      },
      "source": [
        "The output above is an array of ten flips. The computer addresses every number in the array by counting from beginning to end (keep in mind that computers start counting at zero, so this array would be addressed 0 to 9).\n",
        "\n",
        ">[ 0  1  0  1  0  1  0  1  0  1 ] - output\n",
        ">\n",
        ">[ 0  1  2  3  4  5  6  7  8  9 ] - address\n",
        "\n",
        "Imagine if I flipped a coin ten times and getting ten heads in a row. One of you might ask to see both sides of the coin. There is a problem in the code. Which of the instructions passed to randint needs to be changed?\n",
        "\n",
        "Make change(s) to the code below until you get an array with both 0 and 1."
      ]
    },
    {
      "cell_type": "code",
      "metadata": {
        "id": "SLo49tEqBJdY"
      },
      "source": [
        "coins10 = np.random.randint(0,1,10)\n",
        "\n",
        "print(coins)"
      ],
      "execution_count": null,
      "outputs": []
    },
    {
      "cell_type": "markdown",
      "metadata": {
        "id": "RCHII209BMEe"
      },
      "source": [
        "Now say we wanted to simulate 1000 flips. Then we want to analyze the output to make sure it makes sense. To do this analysis we will plot a histogram of the data.\n",
        "\n",
        "Add the values that need to be passed to the \"randint\" subfunction to simulate 1000 coin flips. Then run the code and see if it makes sense.\n"
      ]
    },
    {
      "cell_type": "code",
      "metadata": {
        "id": "SiRxqvDuDzQ5"
      },
      "source": [
        "coins1000 = np.random.randint(0,2,1000)\n",
        "\n",
        "plt.hist(coins1000, bins = 4, range = (0,2))\n",
        "plt.title('Coin flip out comes')\n",
        "plt.ylabel('Y axis')\n",
        "plt.xlabel('X axis')\n"
      ],
      "execution_count": null,
      "outputs": []
    },
    {
      "cell_type": "markdown",
      "metadata": {
        "id": "bI22RyTuYpOC"
      },
      "source": [
        "Coins are nice but let’s look at something with more than two sides to land on, dice. Here we are going to do some other things differently. First, we are going to define some variables so we can call them up later. Then we are going to use a \"for loop\" instead of passing that number to the \"randint\" subfunction.\n",
        "\n",
        "You will also see lines of code that start with # and are green. These are called comments are meant as notes to others about the code which the computer ignores."
      ]
    },
    {
      "cell_type": "code",
      "metadata": {
        "id": "1RJx8omIYpja"
      },
      "source": [
        "# Here we define the number of rolls so we can change it in one place and call\n",
        "# it every time we need it. This also means we can change the number once and \n",
        "# the code still works.\n",
        "n_rolls = 20\n",
        "\n",
        "# Here we are creating an empty array to put the data in for all of our rolls.\n",
        "# This array will be n_rolls rolls by 1. This means that there will be \n",
        "# n_rolls groups with one data point in each group.\n",
        "dice = np.zeros((n_rolls, 1), dtype=np.int)\n",
        "\n",
        "# This is the \"for loop\" which will be more usefull when starting with a data set.\n",
        "# In this case we are illistrating how to add data based on the number of groups\n",
        "# there are in the array.\n",
        "for ie in range(0, n_rolls):\n",
        "  dice[ie, 0] = np.random.randint(1,7)\n",
        "\n",
        "# A space is needed to break the \"for loop\"\n",
        "\n",
        "# We are going to print this simple array so we can look at it.\n",
        "print(dice)\n",
        "\n",
        "# Now we are going to make a histogram of the data to better analyze it.\n",
        "# More important as the data set gets bigger.\n",
        "plt.hist(dice, bins=6, range=(1,6))\n",
        "plt.title('Times rolled')\n",
        "\n",
        "# After you run this you should notice the code is wrong and fix it."
      ],
      "execution_count": null,
      "outputs": []
    },
    {
      "cell_type": "markdown",
      "metadata": {
        "id": "-shm7MkXwOwp"
      },
      "source": [
        "One die is great but let's try more. This time we will go with two dice rolled ten times. In doing this we can make better use of the \"for loop\"."
      ]
    },
    {
      "cell_type": "code",
      "metadata": {
        "id": "CFzobzvuwJHg"
      },
      "source": [
        "n_rolls = 20\n",
        "\n",
        "# This time we are creating an empty array to put the data in for all of our\n",
        "# rolls. This array will be n_rolls rolls by 2. This means that there will be \n",
        "# n_rolls groups with 2 data point in each group.\n",
        "dice2 = np.zeros((n_rolls, 2), dtype=np.int)\n",
        "\n",
        "print(\"New array with no dice rolled.\")\n",
        "print(dice2)\n",
        "\n",
        "for ie in range(0, n_rolls):\n",
        "  dice2[ie, 0] = np.random.randint(1,7)\n",
        "  \n",
        "print(\"Array with first dice roll.\")\n",
        "print(dice2)\n",
        "\n",
        "# For the next dice we need to move to the second data point in each group.\n",
        "  # In the brackets the above \"ie\" is the group number and the \"0\" is for the \n",
        "  # first data point. Since we now want the second data point we need to change\n",
        "  # \"0\" to \"1\".\n",
        "for ie in range(0, n_rolls):\n",
        "  dice2[ie, 1] = np.random.randint(1,7)\n",
        "\n",
        "print(\"Array with all dice rolled.\")\n",
        "print(dice2)\n",
        "\n",
        "plt.hist(dice2, bins=6, range=(1,7))\n",
        "plt.title('Times rolled')\n",
        "print(message2)"
      ],
      "execution_count": null,
      "outputs": []
    },
    {
      "cell_type": "markdown",
      "metadata": {
        "id": "I7c5ldr-Spka"
      },
      "source": [
        "There are two values in the brackets after the name of the array, the ie is the number of time the for loop has run and is the row in the array. The second is the number of spaces in the row it should skip. So the first number put in the array goes in row 0 (as that is the number of times the for loop has run and 0 numbers over in that row (what you would count as the first column.\n",
        "\n",
        "![Example Array.png](data:image/png;base64,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)\n",
        "\n",
        "\n",
        "---\n",
        "\n",
        "\n",
        "Now write the code for two dice rolled 1000 times, using only **one** for loop and only printing the array **once**."
      ]
    },
    {
      "cell_type": "code",
      "metadata": {
        "id": "XhKsdx5XSpFk"
      },
      "source": [
        "# You got this."
      ],
      "execution_count": null,
      "outputs": []
    },
    {
      "cell_type": "markdown",
      "metadata": {
        "id": "aZaZH3dWpQeW"
      },
      "source": [
        "We could try to analyze this another way and look at the sum of the dice. To do this we will create a 1 column array."
      ]
    },
    {
      "cell_type": "code",
      "metadata": {
        "id": "HBZRhuufA-en"
      },
      "source": [
        "sum = np.zeros((n_rolls, 1), dtype=np.int)\n",
        "\n",
        "for ie in range(0, n_rolls):\n",
        "  sum[ie, 0] = dice2[ie, 0] + dice2[ie, 1]\n",
        "\n",
        "plt.hist(sum)"
      ],
      "execution_count": null,
      "outputs": []
    },
    {
      "cell_type": "markdown",
      "metadata": {
        "id": "BkLL83r3u_BQ"
      },
      "source": [
        "Now try to make an array (named \"dice3\") and histogram with three dice.\n",
        "\n",
        "At what number do you expect the histogram of the three dice sum to peak?"
      ]
    },
    {
      "cell_type": "code",
      "metadata": {
        "id": "q5qK9NKMviaQ"
      },
      "source": [
        "# Now you just have to copy and modify."
      ],
      "execution_count": null,
      "outputs": []
    },
    {
      "cell_type": "markdown",
      "metadata": {
        "id": "womXpcnq282y"
      },
      "source": [
        "It might be easier to look at the histogram if we just add the value of the three dice for each roll. Add what you need to to the equation below, make sure you tink about the number of bins and range of the histogram."
      ]
    },
    {
      "cell_type": "code",
      "metadata": {
        "id": "XCC1hGGP2-Jg"
      },
      "source": [
        "sum3 = np.zeros((n_rolls, 1), dtype=np.int)\n",
        "\n",
        "for ie in range(0, n_rolls):\n",
        "  sum3[ie, 0] = dice3[ie, 0] + \n",
        "\n",
        "plt.hist(sum3, bins=3, range=(0,3))\n",
        "plt.title('Sums of 3 dice rolls')"
      ],
      "execution_count": null,
      "outputs": []
    }
  ]
}
