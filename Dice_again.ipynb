{
  "nbformat": 4,
  "nbformat_minor": 0,
  "metadata": {
    "colab": {
      "name": "Dice_again.ipynb",
      "provenance": [],
      "authorship_tag": "ABX9TyPTgwcoqnW/amYwAemRLgcM",
      "include_colab_link": true
    },
    "kernelspec": {
      "name": "python3",
      "display_name": "Python 3"
    }
  },
  "cells": [
    {
      "cell_type": "markdown",
      "metadata": {
        "id": "view-in-github",
        "colab_type": "text"
      },
      "source": [
        "<a href=\"https://colab.research.google.com/github/dkallenberg/Quarknet_Data/blob/master/Dice_again.ipynb\" target=\"_parent\"><img src=\"https://colab.research.google.com/assets/colab-badge.svg\" alt=\"Open In Colab\"/></a>"
      ]
    },
    {
      "cell_type": "code",
      "metadata": {
        "id": "gfU8-Xel9mXo",
        "colab_type": "code",
        "colab": {
          "base_uri": "https://localhost:8080/",
          "height": 638
        },
        "outputId": "10756319-98f7-45cc-8937-1e94c1837a3e"
      },
      "source": [
        "import numpy as np\n",
        "import matplotlib.pyplot as plt\n",
        "\n",
        "n_rolls = 20\n",
        "\n",
        "dice3 = np.empty((n_rolls, 3), dtype=np.int)\n",
        "\n",
        "for ie in range(0, n_rolls):\n",
        "  dice3[ie, 0] = np.random.randint(1,7)\n",
        "  dice3[ie, 1] = np.random.randint(1,7)\n",
        "  dice3[ie, 2] = np.random.randint(1,7)\n",
        "\n",
        "print(dice3)\n",
        "\n",
        "plt.hist(dice3, bins=6, range=(1,7))\n",
        "plt.title('All three Dice')"
      ],
      "execution_count": 1,
      "outputs": [
        {
          "output_type": "stream",
          "text": [
            "[[3 5 2]\n",
            " [1 5 2]\n",
            " [3 6 2]\n",
            " [3 4 1]\n",
            " [5 1 5]\n",
            " [3 2 1]\n",
            " [4 3 3]\n",
            " [1 1 2]\n",
            " [6 5 6]\n",
            " [6 1 1]\n",
            " [6 6 5]\n",
            " [4 4 6]\n",
            " [4 6 4]\n",
            " [2 2 2]\n",
            " [5 6 2]\n",
            " [2 3 3]\n",
            " [3 6 5]\n",
            " [1 6 4]\n",
            " [3 4 1]\n",
            " [6 2 1]]\n"
          ],
          "name": "stdout"
        },
        {
          "output_type": "execute_result",
          "data": {
            "text/plain": [
              "Text(0.5, 1.0, 'All three Dice')"
            ]
          },
          "metadata": {
            "tags": []
          },
          "execution_count": 1
        },
        {
          "output_type": "display_data",
          "data": {
            "image/png": "[encoded data removed]",
            "text/plain": [
              "<Figure size 432x288 with 1 Axes>"
            ]
          },
          "metadata": {
            "tags": [],
            "needs_background": "light"
          }
        }
      ]
    },
    {
      "cell_type": "code",
      "metadata": {
        "id": "TrQ6tklD_AWk",
        "colab_type": "code",
        "colab": {
          "base_uri": "https://localhost:8080/",
          "height": 638
        },
        "outputId": "5adabd69-ab3f-47ab-908f-53c129458980"
      },
      "source": [
        "dice1no6 = np.empty((n_rolls, 3), dtype=np.int)\n",
        "\n",
        "for ie in range(0, n_rolls):\n",
        "  if(dice3[ie, 0]<6):\n",
        "    dice1no6[ie, 0:3] = dice3[ie, 0:3]\n",
        "\n",
        "print(dice1no6)\n",
        "plt.hist(dice1no6,range=(1,7))\n",
        "plt.title('Dice 1 no 6')"
      ],
      "execution_count": 2,
      "outputs": [
        {
          "output_type": "stream",
          "text": [
            "[[3 5 2]\n",
            " [1 5 2]\n",
            " [3 6 2]\n",
            " [3 4 1]\n",
            " [5 1 5]\n",
            " [3 2 1]\n",
            " [4 3 3]\n",
            " [1 1 2]\n",
            " [1 2 3]\n",
            " [1 5 1]\n",
            " [6 4 6]\n",
            " [4 4 6]\n",
            " [4 6 4]\n",
            " [2 2 2]\n",
            " [5 6 2]\n",
            " [2 3 3]\n",
            " [3 6 5]\n",
            " [1 6 4]\n",
            " [3 4 1]\n",
            " [4 1 1]]\n"
          ],
          "name": "stdout"
        },
        {
          "output_type": "execute_result",
          "data": {
            "text/plain": [
              "Text(0.5, 1.0, 'Dice 1 no 6')"
            ]
          },
          "metadata": {
            "tags": []
          },
          "execution_count": 2
        },
        {
          "output_type": "display_data",
          "data": {
            "image/png": "[encoded data removed]",
            "text/plain": [
              "<Figure size 432x288 with 1 Axes>"
            ]
          },
          "metadata": {
            "tags": [],
            "needs_background": "light"
          }
        }
      ]
    },
    {
      "cell_type": "code",
      "metadata": {
        "id": "tMt2YDjCr4sb",
        "colab_type": "code",
        "colab": {
          "base_uri": "https://localhost:8080/",
          "height": 638
        },
        "outputId": "b716a382-eac8-4662-f600-760f7d308be6"
      },
      "source": [
        "dice_allno6 = np.empty((n_rolls, 3), dtype=np.int)\n",
        "\n",
        "for ie in range(0, n_rolls):\n",
        "  if(dice3[ie, 0]!=6) and (dice3[ie, 1]!=6) and (dice3[ie, 2]!=6):\n",
        "    dice_allno6[ie, 0:3] = dice3[ie, 0:3]\n",
        "\n",
        "print(dice_allno6)\n",
        "plt.hist(dice_allno6,range=(1,7))\n",
        "plt.title('Dice 1 no 6')"
      ],
      "execution_count": 3,
      "outputs": [
        {
          "output_type": "stream",
          "text": [
            "[[3 5 2]\n",
            " [1 5 2]\n",
            " [4 1 1]\n",
            " [3 4 1]\n",
            " [5 1 5]\n",
            " [3 2 1]\n",
            " [4 3 3]\n",
            " [1 1 2]\n",
            " [1 2 3]\n",
            " [1 2 5]\n",
            " [4 4 6]\n",
            " [2 6 3]\n",
            " [6 6 4]\n",
            " [2 2 2]\n",
            " [2 1 5]\n",
            " [2 3 3]\n",
            " [3 1 6]\n",
            " [6 4 2]\n",
            " [3 4 1]\n",
            " [4 1 1]]\n"
          ],
          "name": "stdout"
        },
        {
          "output_type": "execute_result",
          "data": {
            "text/plain": [
              "Text(0.5, 1.0, 'Dice 1 no 6')"
            ]
          },
          "metadata": {
            "tags": []
          },
          "execution_count": 3
        },
        {
          "output_type": "display_data",
          "data": {
            "image/png": "[encoded data removed]",
            "text/plain": [
              "<Figure size 432x288 with 1 Axes>"
            ]
          },
          "metadata": {
            "tags": [],
            "needs_background": "light"
          }
        }
      ]
    },
    {
      "cell_type": "code",
      "metadata": {
        "id": "JVxcNHDLvwQ-",
        "colab_type": "code",
        "colab": {
          "base_uri": "https://localhost:8080/",
          "height": 638
        },
        "outputId": "c554b2bd-5a10-48ac-ff91-023fccc36b35"
      },
      "source": [
        "rolls_with_6 = np.empty((n_rolls, 3), dtype=np.int)\n",
        "\n",
        "for ie in range(0, n_rolls):\n",
        "  if(dice3[ie, 0]==6) or (dice3[ie, 1]==6) or (dice3[ie, 2]==6):\n",
        "    rolls_with_6[ie, 0:3] = dice3[ie, 0:3]\n",
        "\n",
        "print(rolls_with_6)\n",
        "plt.hist(rolls_with_6,range=(1,7))\n",
        "plt.title('Rolls with a 6')"
      ],
      "execution_count": 4,
      "outputs": [
        {
          "output_type": "stream",
          "text": [
            "[[3 1 4]\n",
            " [3 5 3]\n",
            " [3 6 2]\n",
            " [1 4 2]\n",
            " [6 2 2]\n",
            " [2 3 6]\n",
            " [3 4 5]\n",
            " [5 1 4]\n",
            " [6 5 6]\n",
            " [6 1 1]\n",
            " [6 6 5]\n",
            " [4 4 6]\n",
            " [4 6 4]\n",
            " [1 2 2]\n",
            " [5 6 2]\n",
            " [1 3 2]\n",
            " [3 6 5]\n",
            " [1 6 4]\n",
            " [5 3 6]\n",
            " [6 2 1]]\n"
          ],
          "name": "stdout"
        },
        {
          "output_type": "execute_result",
          "data": {
            "text/plain": [
              "Text(0.5, 1.0, 'Rolls with a 6')"
            ]
          },
          "metadata": {
            "tags": []
          },
          "execution_count": 4
        },
        {
          "output_type": "display_data",
          "data": {
            "image/png": "[encoded data removed]",
            "text/plain": [
              "<Figure size 432x288 with 1 Axes>"
            ]
          },
          "metadata": {
            "tags": [],
            "needs_background": "light"
          }
        }
      ]
    }
  ]
}