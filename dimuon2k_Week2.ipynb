{
  "nbformat": 4,
  "nbformat_minor": 0,
  "metadata": {
    "colab": {
      "name": "dimuon2k_Week2.ipynb",
      "provenance": [],
      "collapsed_sections": [],
      "include_colab_link": true
    },
    "kernelspec": {
      "name": "python3",
      "display_name": "Python 3"
    }
  },
  "cells": [
    {
      "cell_type": "markdown",
      "metadata": {
        "id": "view-in-github",
        "colab_type": "text"
      },
      "source": [
        "<a href=\"https://colab.research.google.com/github/dkallenberg/Quarknet_Data/blob/master/dimuon2k_Week2.ipynb\" target=\"_parent\"><img src=\"https://colab.research.google.com/assets/colab-badge.svg\" alt=\"Open In Colab\"/></a>"
      ]
    },
    {
      "cell_type": "markdown",
      "metadata": {
        "id": "fJSGnmZDQCQW"
      },
      "source": [
        "In order to analyze data - libraries must be imported, the data must be read from a file and the data must be stored in arrays. To confirm that the data is being read correctly - compare the printed data for the first 5 events with the data spreadsheet.\n"
      ]
    },
    {
      "cell_type": "code",
      "metadata": {
        "id": "KJRRj16EQMEA"
      },
      "source": [
        "# import libraries\n",
        "import pandas as pd\n",
        "import numpy as np\n",
        "%matplotlib inline\n",
        "import matplotlib as mpl\n",
        "import matplotlib.pyplot as plt\n",
        "import math\n",
        "inline_rc = dict(mpl.rcParams)\n",
        "\n",
        "# clear figures\n",
        "plt.clf()\n",
        "\n",
        "# The next line pulls in out data from a file with comma seperated values (csv)\n",
        "data = pd.read_csv('https://raw.githubusercontent.com/dkallenberg/Quarknet_Data/master/CMS_Low-Mass_DiMuon.csv')\n",
        "\n",
        "# determine the number of events\n",
        "n_evt = len(data.E1)\n",
        "\n",
        "# initialize arrays for histogram use\n",
        "Esys = np.zeros((n_evt, 1), dtype=np.float)\n",
        "Psys = np.zeros((n_evt, 1), dtype=np.float)\n",
        "Msys = np.zeros((n_evt, 1), dtype=np.float)\n",
        "P3sys = np.zeros((n_evt, 3), dtype=np.float)\n",
        "P3sys_evt = np.zeros((3), dtype=np.float)\n",
        "M_all = np.zeros((n_evt, 1), dtype=np.float)\n",
        "M_opp = np.zeros((n_evt, 1), dtype=np.float)\n",
        "M_opp_GT_GG = np.zeros((n_evt, 1), dtype=np.float)\n",
        "M_opp_GG = np.zeros((n_evt, 1), dtype=np.float)\n",
        "B3sys = np.zeros((n_evt, 3), dtype=np.float)\n",
        "\n",
        "# set bin size for histograms\n",
        "xE = np.linspace(-100, 100, num=201)     # adjust as needed\n",
        "xP = np.linspace(-100, 100, num=201)     # adjust as needed\n",
        "xQ = np.linspace(-100, 100, num=201)     # adjust as needed\n",
        "xEsys = np.linspace(-100, 100, num=201)  # adjust as needed\n",
        "xPsys = np.linspace(-100, 100, num=201)  # adjust as needed\n",
        "xM = np.linspace(-100, 100, num=201)     # adjust as needed\n",
        "xERF = np.linspace(-100, 100, num=201)   # adjust as needed\n",
        "xPRF = np.linspace(-100, 100, num=201)   # adjust as needed\n",
        "\n",
        "data.head(5)\n",
        "\n",
        "print(\"Data Shape\")\n",
        "\n",
        "data.shape\n",
        "\n",
        "print(\"Data Types\")\n",
        "\n",
        "data.dtypes"
      ],
      "execution_count": null,
      "outputs": []
    },
    {
      "cell_type": "markdown",
      "metadata": {
        "id": "2PvaEBgqXY2T"
      },
      "source": [
        "Store the muon quality, the event number, and the charges of muons 1 and 2 in arrays. Then create 4-momentum vectors for muon 1 and muon 2."
      ]
    },
    {
      "cell_type": "code",
      "metadata": {
        "id": "oBm8YZNQXlud"
      },
      "source": [
        "# initialize physics arrays \n",
        "mu_q = np.zeros((n_evt,1), dtype=np.object)\n",
        "ev_n = np.zeros((n_evt,1), dtype=np.float)\n",
        "q1 = np.zeros((n_evt,1), dtype=np.int)\n",
        "q2 = np.zeros((n_evt,1), dtype=np.int)\n",
        "p4mu1 = np.zeros((n_evt, 4), dtype=np.float)\n",
        "p4mu2 = np.zeros((n_evt, 4), dtype=np.float)\n",
        "# populate physics arrays\n",
        "mu_q[:, 0] = data.MuQuality\n",
        "ev_n[:, 0] = data.Event_Number\n",
        "q1[:, 0] = data.Q1\n",
        "q2[:, 0] = data.Q2\n",
        "# populate muon 1's 4-momentum\n",
        "p4mu1[:, 0] = data.E1\n",
        "p4mu1[:, 1] = data.px1\n",
        "p4mu1[:, 2] = data.py1\n",
        "p4mu1[:, 3] = data.pz1\n",
        "# populate muon 2's 4-momentum\n",
        "p4mu2[:, 0] = data.E2\n",
        "p4mu2[:, 1] = data.px2\n",
        "p4mu2[:, 2] = data.py2\n",
        "p4mu2[:, 3] = data.pz2\n"
      ],
      "execution_count": null,
      "outputs": []
    },
    {
      "cell_type": "markdown",
      "metadata": {
        "id": "XYRj_UxoQpoX"
      },
      "source": [
        "Before analyzing data, physicists inspect each variable's spectrum. In this data set there are 12 variables. Use subplot to plot the spectrum of all 12 variables in one figure.\n"
      ]
    },
    {
      "cell_type": "code",
      "metadata": {
        "id": "peNpFftAQvpk"
      },
      "source": [
        "# create and display diagnostic histograms\n",
        "fig = plt.figure(1)\n",
        "fig.suptitle('Figure #1: Diagnostic Plots in Lab Frame')\n",
        "plt.subplot(3, 4, 1)\n",
        "plt.hist(mu_q)\n",
        "plt.xlabel('Muon Quality')\n",
        "plt.subplot(3, 4, 2)\n",
        "plt.hist(ev_n)\n",
        "plt.xlabel('Event Number')\n",
        "\n",
        "plt.subplot(3, 4, 5)\n",
        "plt.hist(p4mu1[:, 0], xE)\n",
        "plt.xlabel('E1 (GeV)')\n"
      ],
      "execution_count": null,
      "outputs": []
    },
    {
      "cell_type": "markdown",
      "metadata": {
        "id": "q1puvd-2Q85j"
      },
      "source": [
        "Use the energy and momentum of the dimuon system to determine the energy and momentum of the J/Psi candidates. What conservation laws are you using?"
      ]
    },
    {
      "cell_type": "code",
      "metadata": {
        "id": "jQpzcw2oQ-5A"
      },
      "source": [
        "# calculate Esys, P3sys, Psys (magnitude of 3 momentum) and Msys\n",
        "for ie in range(0, n_evt):\n",
        "    Esys[ie, 0] = p4mu1[ie, 0] + p4mu2[ie, 0]\n",
        "\n",
        "# histogram Esys, Psys (magnitude of 3 momentum) and Msys\n",
        "fig = plt.figure(2)\n",
        "fig.suptitle('Figure #2: Esys, Psys and Msys in Lab Frame')\n"
      ],
      "execution_count": null,
      "outputs": []
    },
    {
      "cell_type": "markdown",
      "metadata": {
        "id": "DPqEAEmkRFuV"
      },
      "source": [
        "Create 4 mass plots: All pairs, oppositely charged pairs, oppositely charged pairs with no tracker muons and oppositely charged pairs with 2 global muons."
      ]
    },
    {
      "cell_type": "code",
      "metadata": {
        "id": "-WJfaFxHRL65"
      },
      "source": [
        "# select events based on the charge and muon quality\n",
        "for ie in range(0, n_evt):\n",
        "    M_all[ie, 0] = Msys[ie, 0]\n",
        "    if ((q1[ie] * q2[ie]) < 0):\n",
        "        M_opp[ie, 0] = Msys[ie, 0]\n",
        "\n",
        "\n",
        "# histogram mass plots with muon charge and muon quality selections (cuts)\n",
        "fig = plt.figure(3)\n",
        "fig.suptitle('Figure #3: Muon Charge and Quality Cuts in Lab Frame')\n",
        "\n"
      ],
      "execution_count": null,
      "outputs": []
    },
    {
      "cell_type": "markdown",
      "metadata": {
        "id": "tTdtZUJCRNmE"
      },
      "source": [
        "So far the energy and momentum values have been in the lab frame. Now, we want to transform the energy and momentum of each muon to the rest frame of theJ/Psi candidate. \n"
      ]
    },
    {
      "cell_type": "code",
      "metadata": {
        "id": "vYYlDtkTRRKQ"
      },
      "source": [
        "# TRANSFORM to REST FRAME of CANDIDATE J/Psi\n",
        "\n",
        "# Loop over all the events\n",
        "\n",
        "for ie in range(0, n_evt):\n",
        "    # determine velocity of candidate J/Psi\n",
        "    B3sys[ie, :] = P3sys[ie, :]/Esys[ie, 0]\n",
        "\n",
        "    # create Lorentz Transformation matrix\n",
        "    L = [[ m11,          m12,                   m13,                 m14,],\n",
        "         [ m21,          m22,                   m23,                 m24,],\n",
        "         [ m31,          m32,                   m33,                 m34,],\n",
        "         [ m41,          m42,                   m43,                 m44,]]\n",
        "    \n",
        "    # transform p4mu1 and p4mu2 to rest frame of J/Psi candidate\n",
        "    p4mu1[ie, 0:4] = \n",
        "    p4mu2[ie, 0:4] = \n"
      ],
      "execution_count": null,
      "outputs": []
    },
    {
      "cell_type": "markdown",
      "metadata": {
        "id": "QP3H1Ea_RWJI"
      },
      "source": [
        "Duplicate calculations and histograms in J/Psi candidate rest frame.   \n",
        "\n",
        "Hint: Copy the appropriate code from above and make the needed adjustments. You will be creating figures 4, 5 and 6 in the rest frame of the J/Psi candidates."
      ]
    }
  ]
}
