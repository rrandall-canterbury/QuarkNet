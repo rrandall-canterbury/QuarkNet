{
  "nbformat": 4,
  "nbformat_minor": 0,
  "metadata": {
    "colab": {
      "name": "Coins and Dice with Python.ipynb",
      "provenance": [],
      "collapsed_sections": []
    },
    "kernelspec": {
      "name": "python3",
      "display_name": "Python 3"
    }
  },
  "cells": [
    {
      "cell_type": "markdown",
      "metadata": {
        "id": "o7WSkLOi9rc4",
        "colab_type": "text"
      },
      "source": [
        "In most coding languages first, we have to import \"libraries\", which are a set of \"words\" with more code behind them to make them work. In many cases, the name of the library is shortened when it is imported to make it easier type.\n",
        "\n",
        "Click on the [ ] to run the snippet below."
      ]
    },
    {
      "cell_type": "code",
      "metadata": {
        "id": "-M0jOUiG8PHt",
        "colab_type": "code",
        "colab": {}
      },
      "source": [
        "import numpy as np\n",
        "import matplotlib.pyplot as plt"
      ],
      "execution_count": null,
      "outputs": []
    },
    {
      "cell_type": "markdown",
      "metadata": {
        "id": "XT49ooM6-eRe",
        "colab_type": "text"
      },
      "source": [
        "The number in the brackets abover tells you the snippet of code has run. It also tells you where in the sequence it ran.\n",
        "\n",
        "The numpy library, here called using \"np\", has many functions and those functions have sub-functions. Here we are going to simulate a coin flip by using the random function in the numpy library. Coins only have two sides so we will say that heads is a 0 and tails is a 1. Since we only need integers we will use the randint subfunction of random.\n",
        "\n",
        "After a function or sub-function, more instructions can be passed in the parentheses. In the case of the randint subfunction three things are listed (min int, max int, number of int output).\n",
        "Below the code is the output that in this case, the code says to print.\n",
        "\n",
        "Click on the [ ] to run the snippet below."
      ]
    },
    {
      "cell_type": "code",
      "metadata": {
        "id": "ZDfTTAkb-Ybg",
        "colab_type": "code",
        "colab": {}
      },
      "source": [
        "coins = np.random.randint(0,1,10)\n",
        "\n",
        "print(coins)"
      ],
      "execution_count": null,
      "outputs": []
    },
    {
      "cell_type": "markdown",
      "metadata": {
        "id": "gupW8r5YAeqd",
        "colab_type": "text"
      },
      "source": [
        "The output above is an array of ten flips. The computer addresses every number in the array by counting from beginning to end (keep in mind that computers start counting at zero, so this array would be addressed 0 to 9)\n",
        "\n",
        "Imagine if I flipped a coin ten times and getting ten heads in a row. One of you might ask to see both sides of the coin. There is a problem in the code. Which of the instructions passed to randint needs to be changed?\n",
        "\n",
        "Make change(s) to the code below until you get an array with both 0 and 1."
      ]
    },
    {
      "cell_type": "code",
      "metadata": {
        "id": "SLo49tEqBJdY",
        "colab_type": "code",
        "colab": {}
      },
      "source": [
        "coins = np.random.randint(0,1,10)\n",
        "\n",
        "print(coins)"
      ],
      "execution_count": null,
      "outputs": []
    },
    {
      "cell_type": "markdown",
      "metadata": {
        "id": "RCHII209BMEe",
        "colab_type": "text"
      },
      "source": [
        "Now say we wanted to simulate 1000 flips. Then we want to analyze the output to make sure it makes sense. To do this analysis we will plot a histogram of the data.\n",
        "\n",
        "Add the values that need to be passed to the \"randint\" subfunction to simulate 1000 coin flips. Then run the code and see if it makes sense.\n"
      ]
    },
    {
      "cell_type": "code",
      "metadata": {
        "id": "SiRxqvDuDzQ5",
        "colab_type": "code",
        "colab": {}
      },
      "source": [
        "coins = np.random.randint(0,2,1000)\n",
        "\n",
        "plt.hist(coins, bins = 4, range = (0,2))\n",
        "plt.title('Coin flip out comes')\n",
        "plt.ylabel('Y axis')\n",
        "plt.xlabel('X axis')\n"
      ],
      "execution_count": null,
      "outputs": []
    },
    {
      "cell_type": "markdown",
      "metadata": {
        "id": "bI22RyTuYpOC",
        "colab_type": "text"
      },
      "source": [
        "Coins are nice but let’s look at something with more than two sides to land on, dice. Here we are going to do some other things differently. First, we are going to define some variables so we can call them up later. Then we are going to use a \"for loop\" instead of passing that number to the \"randint\" subfunction.\n",
        "\n",
        "You will also see lines of code that start with # and are green. These are called comments are meant as notes to others about the code which the computer ignores."
      ]
    },
    {
      "cell_type": "code",
      "metadata": {
        "id": "1RJx8omIYpja",
        "colab_type": "code",
        "colab": {}
      },
      "source": [
        "# Here we define the number of rolls so we can change it in one place and call\n",
        "# it every time we need it. This also means we can change the number once and \n",
        "# the code still works.\n",
        "n_rolls = 20\n",
        "\n",
        "# Here we are creating an empty array to put the data in for all of our rolls.\n",
        "# This array will be n_rolls rolls by 1. This means that there will be \n",
        "# n_rolls groups with one data point in each group.\n",
        "dice = np.empty((n_rolls, 1), dtype=np.int)\n",
        "\n",
        "# This is the \"for loop\" which will be more usefull when starting with a data set.\n",
        "# In this case we are illistrating how to add data based on the number of groups\n",
        "# there are in the array.\n",
        "for ie in range(0, n_rolls):\n",
        "  dice[ie, 0] = np.random.randint(1,7)\n",
        "\n",
        "# A space is needed to break the \"for loop\"\n",
        "\n",
        "# We are going to print this simple array so we can look at it.\n",
        "print(dice)\n",
        "\n",
        "# Now we are going to make a histogram of the data to better analyze it.\n",
        "# More important as the data set gets bigger.\n",
        "plt.hist(dice, bins=6, range=(1,6))\n",
        "plt.title('Times rolled')\n",
        "\n",
        "# After you run this you should notice the code is wrong and fix it."
      ],
      "execution_count": null,
      "outputs": []
    },
    {
      "cell_type": "markdown",
      "metadata": {
        "id": "-shm7MkXwOwp",
        "colab_type": "text"
      },
      "source": [
        "One die is great but let's try more. This time we will go with two dice rolled a thousand times. In doing this we can make better use of the \"for loop\"."
      ]
    },
    {
      "cell_type": "code",
      "metadata": {
        "id": "CFzobzvuwJHg",
        "colab_type": "code",
        "colab": {}
      },
      "source": [
        "n_rolls = 1000\n",
        "\n",
        "# This time we are creating an empty array to put the data in for all of our\n",
        "# rolls. This array will be n_rolls rolls by 2. This means that there will be \n",
        "# n_rolls groups with 2 data point in each group.\n",
        "dice2 = np.empty((n_rolls, 2), dtype=np.int)\n",
        "\n",
        "for ie in range(0, n_rolls):\n",
        "  dice2[ie, 0] = np.random.randint(1,7)\n",
        "  # For the next dice we need to move to the second data point in each group.\n",
        "  # In the brackets the above \"ie\" is the group number and the \"0\" is for the \n",
        "  # first data point. Since we now want the second data point we need to change\n",
        "  # \"0\" to \"1\".\n",
        "  dice2[ie, 1] = np.random.randint(1,7)\n",
        "\n",
        "print(dice2)\n",
        "plt.hist(dice2, bins=6, range=(1,7))\n",
        "plt.title('Times rolled')"
      ],
      "execution_count": null,
      "outputs": []
    },
    {
      "cell_type": "markdown",
      "metadata": {
        "id": "aZaZH3dWpQeW",
        "colab_type": "text"
      },
      "source": [
        "We could try to analyze this another way and look at the sum of the dice. To do this we will create a 1 by 1 array."
      ]
    },
    {
      "cell_type": "code",
      "metadata": {
        "id": "HBZRhuufA-en",
        "colab_type": "code",
        "colab": {}
      },
      "source": [
        "sum = np.empty((n_rolls, 1), dtype=np.int)\n",
        "\n",
        "for ie in range(0, n_rolls):\n",
        "  sum[ie, 0] = dice2[ie, 0] + dice2[ie, 1]\n",
        "\n",
        "plt.hist(sum)"
      ],
      "execution_count": null,
      "outputs": []
    },
    {
      "cell_type": "markdown",
      "metadata": {
        "id": "BkLL83r3u_BQ",
        "colab_type": "text"
      },
      "source": [
        "Now try to make an array and histogram with three dice.\n",
        "\n",
        "At what number do you expect the histogram of the three dice sum to peak?"
      ]
    },
    {
      "cell_type": "code",
      "metadata": {
        "id": "q5qK9NKMviaQ",
        "colab_type": "code",
        "colab": {}
      },
      "source": [
        "# Now you just have to copy and modify."
      ],
      "execution_count": null,
      "outputs": []
    }
  ]
}